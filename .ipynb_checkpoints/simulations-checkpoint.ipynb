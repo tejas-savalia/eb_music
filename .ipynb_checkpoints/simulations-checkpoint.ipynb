{
 "cells": [
  {
   "cell_type": "code",
   "execution_count": 1,
   "id": "0be5a1fc-3820-4649-b5b8-ce372fd89fea",
   "metadata": {},
   "outputs": [],
   "source": [
    "import numpy as np\n",
    "import pandas as pd\n",
    "import seaborn as sns\n",
    "import networkx as nx\n",
    "from simulation_utils import *"
   ]
  },
  {
   "cell_type": "code",
   "execution_count": 2,
   "id": "20966fa3-4842-4678-8326-fddab30e7bca",
   "metadata": {},
   "outputs": [
    {
     "ename": "TypeError",
     "evalue": "list indices must be integers or slices, not NoneType",
     "output_type": "error",
     "traceback": [
      "\u001b[1;31m---------------------------------------------------------------------------\u001b[0m",
      "\u001b[1;31mTypeError\u001b[0m                                 Traceback (most recent call last)",
      "Cell \u001b[1;32mIn[2], line 2\u001b[0m\n\u001b[0;32m      1\u001b[0m modular_graph \u001b[38;5;241m=\u001b[39m create_adjacency_matrix_for_modular_graph(\u001b[38;5;241m15\u001b[39m, \u001b[38;5;241m3\u001b[39m, [\u001b[38;5;241m5\u001b[39m, \u001b[38;5;241m5\u001b[39m, \u001b[38;5;241m5\u001b[39m], [(\u001b[38;5;241m0\u001b[39m, \u001b[38;5;241m14\u001b[39m), (\u001b[38;5;241m4\u001b[39m, \u001b[38;5;241m5\u001b[39m), (\u001b[38;5;241m9\u001b[39m, \u001b[38;5;241m10\u001b[39m)], [\u001b[38;5;241m0\u001b[39m, \u001b[38;5;241m4\u001b[39m, \u001b[38;5;241m5\u001b[39m, \u001b[38;5;241m9\u001b[39m, \u001b[38;5;241m10\u001b[39m, \u001b[38;5;241m14\u001b[39m])\n\u001b[1;32m----> 2\u001b[0m \u001b[43mplot_graph\u001b[49m\u001b[43m(\u001b[49m\u001b[43mmodular_graph\u001b[49m\u001b[43m)\u001b[49m\n",
      "File \u001b[1;32m~\\Documents\\Research\\event boundaries\\event_boundaries_analyses\\eb_music\\simulation_utils.py:65\u001b[0m, in \u001b[0;36mplot_graph\u001b[1;34m(graph, color_node)\u001b[0m\n\u001b[0;32m     63\u001b[0m             G\u001b[38;5;241m.\u001b[39madd_edge(i, j)\n\u001b[0;32m     64\u001b[0m color_map \u001b[38;5;241m=\u001b[39m [\u001b[38;5;124m'\u001b[39m\u001b[38;5;124mblue\u001b[39m\u001b[38;5;124m'\u001b[39m]\u001b[38;5;241m*\u001b[39mgraph\u001b[38;5;241m.\u001b[39mshape[\u001b[38;5;241m0\u001b[39m]\n\u001b[1;32m---> 65\u001b[0m \u001b[43mcolor_map\u001b[49m\u001b[43m[\u001b[49m\u001b[43mcolor_node\u001b[49m\u001b[43m]\u001b[49m \u001b[38;5;241m=\u001b[39m \u001b[38;5;124m'\u001b[39m\u001b[38;5;124mgreen\u001b[39m\u001b[38;5;124m'\u001b[39m\n\u001b[0;32m     66\u001b[0m nx\u001b[38;5;241m.\u001b[39mdraw(G, with_labels \u001b[38;5;241m=\u001b[39m \u001b[38;5;28;01mTrue\u001b[39;00m, node_color\u001b[38;5;241m=\u001b[39mcolor_map)\n\u001b[0;32m     67\u001b[0m plt\u001b[38;5;241m.\u001b[39mshow()\n",
      "\u001b[1;31mTypeError\u001b[0m: list indices must be integers or slices, not NoneType"
     ]
    }
   ],
   "source": [
    "modular_graph = create_adjacency_matrix_for_modular_graph(15, 3, [5, 5, 5], [(0, 14), (4, 5), (9, 10)], [0, 4, 5, 9, 10, 14])\n",
    "plot_graph(modular_graph)"
   ]
  },
  {
   "cell_type": "code",
   "execution_count": null,
   "id": "02e5a630-3c03-4575-99c2-1cea39dc0e4d",
   "metadata": {},
   "outputs": [],
   "source": []
  },
  {
   "cell_type": "code",
   "execution_count": 5,
   "id": "f1046c37-5356-4205-8c7e-76e3ad079998",
   "metadata": {},
   "outputs": [],
   "source": [
    "walk_length = 1000\n",
    "hop_step = walk_length\n",
    "walk = random_walk(modular_graph, hop_step=hop_step, path_length=walk_length).astype(int)"
   ]
  },
  {
   "cell_type": "code",
   "execution_count": 8,
   "id": "6761d8e4-238e-4bdd-860a-ec1c37710201",
   "metadata": {},
   "outputs": [
    {
     "ename": "TypeError",
     "evalue": "plot_graph() takes 1 positional argument but 2 were given",
     "output_type": "error",
     "traceback": [
      "\u001b[1;31m---------------------------------------------------------------------------\u001b[0m",
      "\u001b[1;31mTypeError\u001b[0m                                 Traceback (most recent call last)",
      "Cell \u001b[1;32mIn[8], line 1\u001b[0m\n\u001b[1;32m----> 1\u001b[0m \u001b[43mplot_graph\u001b[49m\u001b[43m(\u001b[49m\u001b[43mmodular_graph\u001b[49m\u001b[43m,\u001b[49m\u001b[43m \u001b[49m\u001b[38;5;241;43m2\u001b[39;49m\u001b[43m)\u001b[49m\n",
      "\u001b[1;31mTypeError\u001b[0m: plot_graph() takes 1 positional argument but 2 were given"
     ]
    }
   ],
   "source": [
    "plot_graph(modular_graph, 2)"
   ]
  }
 ],
 "metadata": {
  "kernelspec": {
   "display_name": "Python 3 (ipykernel)",
   "language": "python",
   "name": "python3"
  },
  "language_info": {
   "codemirror_mode": {
    "name": "ipython",
    "version": 3
   },
   "file_extension": ".py",
   "mimetype": "text/x-python",
   "name": "python",
   "nbconvert_exporter": "python",
   "pygments_lexer": "ipython3",
   "version": "3.11.8"
  }
 },
 "nbformat": 4,
 "nbformat_minor": 5
}
