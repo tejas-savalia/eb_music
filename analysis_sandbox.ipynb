{
 "cells": [
  {
   "cell_type": "code",
   "execution_count": 1,
   "metadata": {
    "tags": []
   },
   "outputs": [],
   "source": [
    "# Import the required packages\n",
    "\n",
    "import warnings\n",
    "warnings.filterwarnings('ignore')\n",
    "import numpy as np\n",
    "import pandas as pd\n",
    "import seaborn as sns\n",
    "import matplotlib.pyplot as plt\n",
    "import ast, os\n",
    "#import bambi as bmb\n",
    "import pymc as pm\n",
    "import arviz as az\n",
    "import scipy.stats as stat\n",
    "from collections import Counter\n",
    "import itertools\n"
   ]
  },
  {
   "cell_type": "code",
   "execution_count": 2,
   "metadata": {
    "tags": []
   },
   "outputs": [],
   "source": [
    "#Set up plotting themes\n",
    "sns.set_context('poster')\n",
    "sns.set_style('darkgrid')"
   ]
  },
  {
   "cell_type": "markdown",
   "metadata": {},
   "source": [
    "# Function to clean the data files\n",
    "\n",
    "#### For each data file this function does the following:\n",
    "1. Drops irrelevant columns\n",
    "2. Computes accuracies (accurate if all correct keys pressed on the first try)\n",
    "3. Label Node types: Boundary vs non boundary\n",
    "4. Label transition types: Cross cluster or within cluster\n",
    "4. Label other relevant conditions like walk length, number of keypresses, etc. "
   ]
  },
  {
   "cell_type": "code",
   "execution_count": null,
   "metadata": {},
   "outputs": [],
   "source": []
  },
  {
   "cell_type": "code",
   "execution_count": null,
   "metadata": {},
   "outputs": [],
   "source": []
  },
  {
   "cell_type": "code",
   "execution_count": 3,
   "metadata": {
    "tags": []
   },
   "outputs": [],
   "source": [
    "def clean_data(filename):\n",
    "    # print(filename)\n",
    "    # Handle errors. If there is an error, go to 'except' and return nothing.\n",
    "    try:\n",
    "        data = pd.read_csv('data/' + filename)\n",
    "\n",
    "        # Drop instruction rows by dropping rows with missing data in column: 'blocks.thisRepN'\n",
    "        data = data.dropna(subset=['blocks.thisRepN']).reset_index(drop=True)\n",
    "\n",
    "        #If data file is incomplete, raise an error. \n",
    "        if sum(data['node idx'].notna()) < 1400:\n",
    "            raise TypeError('Incomplete Data')\n",
    "\n",
    "\n",
    "        #Rt is average rt of all keys pressed\n",
    "        data['rt'] = [np.mean(ast.literal_eval(data['key_resp.rt'][i])) if data['accuracy'][i] else np.NaN for i in range(len(data))]\n",
    "        \n",
    "        #Transition type is cross cluster if goes from boundary to boundary\n",
    "        data['transition_type'] = ['cross cluster' if (data['node type'] == 'boundary')[i] & (data['node type'].shift() == 'boundary')[i] else 'within cluster' for i in range(len(data))]\n",
    "\n",
    "        #Label conditions based on participant number as was designed in the experiment\n",
    "        if data['participant'][0]%3 == 0:\n",
    "            data['condition'] = 'random'\n",
    "        elif data['participant'][0]%3 == 1:\n",
    "            data['condition'] = 'music random'\n",
    "        else:\n",
    "            data['condition'] = 'structured'\n",
    "\n",
    "        data['trial'] = np.arange(len(data))\n",
    "        \n",
    "        \n",
    "    except:\n",
    "        return None\n",
    "\n",
    "    #Count the number of keys to be pressed for each stimuli\n",
    "    data['num_keypress'] = [len(ast.literal_eval(data['stim'][i])) for i in range(len(data))]\n",
    "    \n",
    "    #Return the dataframe with relevant columns\n",
    "    return data[['participant', 'trial', 'blocks.thisRepN', 'accuracy', 'condition', 'node type', 'transition_type', 'rt', 'stim', 'num_keypress']]\n"
   ]
  },
  {
   "cell_type": "markdown",
   "metadata": {},
   "source": [
    "# Read the data files"
   ]
  },
  {
   "cell_type": "code",
   "execution_count": 4,
   "metadata": {
    "tags": []
   },
   "outputs": [],
   "source": [
    "#reads in all the NAMES of the data files from the 'data' folder. \n",
    "data_files = []\n",
    "for f in os.listdir('data/'):\n",
    "    if (f.startswith('240') & f.endswith('csv')):\n",
    "        data_files.append(f)"
   ]
  },
  {
   "cell_type": "markdown",
   "metadata": {},
   "source": [
    "# Sanity Check 1 \n",
    "Print out the data_files variable and test if correct files are being loaded"
   ]
  },
  {
   "cell_type": "code",
   "execution_count": 5,
   "metadata": {},
   "outputs": [
    {
     "data": {
      "text/plain": [
       "['240000_eb_music_2024-03-13_13h32.51.559.csv',\n",
       " '240001_eb_music_2024-03-13_13h28.21.687.csv',\n",
       " '240003_eb_music_2024-03-14_12h29.04.605.csv',\n",
       " '240004_eb_music_2024-03-14_12h59.27.819.csv',\n",
       " '240005_eb_music_2010-09-20_02h29.21.924.csv',\n",
       " '240006_eb_music_2010-09-21_01h01.38.600.csv',\n",
       " '240007_eb_music_2024-03-15_11h40.37.731.csv',\n",
       " '240008_eb_music_2024-03-15_12h02.14.101.csv',\n",
       " '240009_eb_music_2024-03-15_12h47.17.042.csv',\n",
       " '240010_eb_music_2010-09-21_02h04.06.427.csv',\n",
       " '240011_eb_music_2010-10-01_01h53.02.852.csv',\n",
       " '240012_eb_music_2024-03-25_12h29.30.924.csv',\n",
       " '240013_eb_music_2024-03-25_12h49.02.447.csv',\n",
       " '240014_eb_music_2010-10-01_02h46.04.024.csv',\n",
       " '240015_eb_music_2024-03-27_11h23.41.504.csv',\n",
       " '240016_eb_music_2010-10-03_00h47.33.136.csv',\n",
       " '240017_eb_music_2024-03-27_12h53.21.987.csv',\n",
       " '240018_eb_music_2024-03-27_13h18.21.516.csv',\n",
       " '240019_eb_music_2010-10-04_01h39.43.870.csv',\n",
       " '240020_eb_music_2024-03-28_12h16.20.572.csv',\n",
       " '240021_eb_music_2024-03-28_12h37.06.193.csv',\n",
       " '240022_eb_music_2010-10-04_02h44.27.749.csv',\n",
       " '240023_eb_music_2024-03-28_13h42.52.188.csv',\n",
       " '240024_eb_music_2010-10-08_01h38.22.317.csv',\n",
       " '240025_eb_music_2024-03-28_13h19.35.843.csv',\n",
       " '240026_eb_music_2024-04-01_12h14.44.476.csv',\n",
       " '240027_eb_music_2024-04-01_12h34.31.005.csv',\n",
       " '240028_eb_music_2024-04-01_14h14.11.027.csv',\n",
       " '240029_eb_music_2010-10-09_04h00.24.295.csv']"
      ]
     },
     "execution_count": 5,
     "metadata": {},
     "output_type": "execute_result"
    }
   ],
   "source": [
    "data_files"
   ]
  },
  {
   "cell_type": "markdown",
   "metadata": {},
   "source": [
    "# Cleaning the data files into a single large dataframe\n",
    "\n",
    "1. Label Trials, conditions, etc. \n",
    "2. Combine relevant columns of extracted data files \n",
    "3. Specify outliers and remove them\n"
   ]
  },
  {
   "cell_type": "code",
   "execution_count": 13,
   "metadata": {
    "tags": []
   },
   "outputs": [],
   "source": [
    "df_clean = pd.concat([clean_data(f) for f in data_files]).reset_index(drop = True)\n",
    "# df_clean['reset'] = 'False'\n",
    "# df_clean.loc[df_clean['trial'].values%(df_clean['walk_length'].values+1) == 0, 'reset'] = 'True'\n",
    "\n",
    "\n",
    "\n",
    "df_clean_rt_outlier = df_clean[np.abs(stat.zscore(df_clean['rt'], nan_policy='omit')) < 3]\n",
    "# df_clean_rt_outlier['node_transition_type'] = df_clean_rt_outlier['node_type'] + ' ' + df_clean_rt_outlier['transition_type']\n",
    "\n",
    "df_clean_participant = df_clean_rt_outlier.groupby(['participant', 'blocks.thisRepN', 'condition', 'node type', 'transition_type']).median(numeric_only = True).reset_index()\n",
    "\n",
    "# # df_clean_rt_outlier['walk_length'] = df_clean_rt_outlier.walk_length.astype('str')\n",
    "# # df_clean_rt_outlier['num_keypress'] = df_clean_rt_outlier['num_keypress'].astype(str)\n",
    "\n",
    "# df_clean_participant"
   ]
  },
  {
   "cell_type": "markdown",
   "metadata": {},
   "source": [
    "# Sanity Check 2\n",
    "Print out the dataframe df_clearn_rt_outlier to see if it looks as expected. \n",
    "\n",
    "Take a note of the relevant columns"
   ]
  },
  {
   "cell_type": "code",
   "execution_count": 9,
   "metadata": {},
   "outputs": [
    {
     "data": {
      "text/html": [
       "<div>\n",
       "<style scoped>\n",
       "    .dataframe tbody tr th:only-of-type {\n",
       "        vertical-align: middle;\n",
       "    }\n",
       "\n",
       "    .dataframe tbody tr th {\n",
       "        vertical-align: top;\n",
       "    }\n",
       "\n",
       "    .dataframe thead th {\n",
       "        text-align: right;\n",
       "    }\n",
       "</style>\n",
       "<table border=\"1\" class=\"dataframe\">\n",
       "  <thead>\n",
       "    <tr style=\"text-align: right;\">\n",
       "      <th></th>\n",
       "      <th>participant</th>\n",
       "      <th>trial</th>\n",
       "      <th>blocks.thisRepN</th>\n",
       "      <th>accuracy</th>\n",
       "      <th>condition</th>\n",
       "      <th>node type</th>\n",
       "      <th>transition_type</th>\n",
       "      <th>rt</th>\n",
       "      <th>stim</th>\n",
       "      <th>num_keypress</th>\n",
       "      <th>node_transition_type</th>\n",
       "    </tr>\n",
       "  </thead>\n",
       "  <tbody>\n",
       "    <tr>\n",
       "      <th>0</th>\n",
       "      <td>240000.0</td>\n",
       "      <td>0</td>\n",
       "      <td>0.0</td>\n",
       "      <td>1.0</td>\n",
       "      <td>random</td>\n",
       "      <td>non boundary</td>\n",
       "      <td>within cluster</td>\n",
       "      <td>1.471844</td>\n",
       "      <td>('j',)</td>\n",
       "      <td>1</td>\n",
       "      <td>non boundary_within cluster</td>\n",
       "    </tr>\n",
       "    <tr>\n",
       "      <th>1</th>\n",
       "      <td>240000.0</td>\n",
       "      <td>1</td>\n",
       "      <td>0.0</td>\n",
       "      <td>1.0</td>\n",
       "      <td>random</td>\n",
       "      <td>non boundary</td>\n",
       "      <td>within cluster</td>\n",
       "      <td>0.459337</td>\n",
       "      <td>('j',)</td>\n",
       "      <td>1</td>\n",
       "      <td>non boundary_within cluster</td>\n",
       "    </tr>\n",
       "    <tr>\n",
       "      <th>2</th>\n",
       "      <td>240000.0</td>\n",
       "      <td>2</td>\n",
       "      <td>0.0</td>\n",
       "      <td>1.0</td>\n",
       "      <td>random</td>\n",
       "      <td>boundary</td>\n",
       "      <td>within cluster</td>\n",
       "      <td>0.423757</td>\n",
       "      <td>('l',)</td>\n",
       "      <td>1</td>\n",
       "      <td>boundary_within cluster</td>\n",
       "    </tr>\n",
       "    <tr>\n",
       "      <th>3</th>\n",
       "      <td>240000.0</td>\n",
       "      <td>3</td>\n",
       "      <td>0.0</td>\n",
       "      <td>1.0</td>\n",
       "      <td>random</td>\n",
       "      <td>non boundary</td>\n",
       "      <td>within cluster</td>\n",
       "      <td>0.669688</td>\n",
       "      <td>('j', 'space')</td>\n",
       "      <td>2</td>\n",
       "      <td>non boundary_within cluster</td>\n",
       "    </tr>\n",
       "    <tr>\n",
       "      <th>4</th>\n",
       "      <td>240000.0</td>\n",
       "      <td>4</td>\n",
       "      <td>0.0</td>\n",
       "      <td>1.0</td>\n",
       "      <td>random</td>\n",
       "      <td>non boundary</td>\n",
       "      <td>within cluster</td>\n",
       "      <td>1.228632</td>\n",
       "      <td>('j', 'l')</td>\n",
       "      <td>2</td>\n",
       "      <td>non boundary_within cluster</td>\n",
       "    </tr>\n",
       "    <tr>\n",
       "      <th>...</th>\n",
       "      <td>...</td>\n",
       "      <td>...</td>\n",
       "      <td>...</td>\n",
       "      <td>...</td>\n",
       "      <td>...</td>\n",
       "      <td>...</td>\n",
       "      <td>...</td>\n",
       "      <td>...</td>\n",
       "      <td>...</td>\n",
       "      <td>...</td>\n",
       "      <td>...</td>\n",
       "    </tr>\n",
       "    <tr>\n",
       "      <th>40595</th>\n",
       "      <td>240029.0</td>\n",
       "      <td>1395</td>\n",
       "      <td>6.0</td>\n",
       "      <td>1.0</td>\n",
       "      <td>structured</td>\n",
       "      <td>non boundary</td>\n",
       "      <td>within cluster</td>\n",
       "      <td>0.568107</td>\n",
       "      <td>('j',)</td>\n",
       "      <td>1</td>\n",
       "      <td>non boundary_within cluster</td>\n",
       "    </tr>\n",
       "    <tr>\n",
       "      <th>40596</th>\n",
       "      <td>240029.0</td>\n",
       "      <td>1396</td>\n",
       "      <td>6.0</td>\n",
       "      <td>1.0</td>\n",
       "      <td>structured</td>\n",
       "      <td>boundary</td>\n",
       "      <td>within cluster</td>\n",
       "      <td>1.052871</td>\n",
       "      <td>('j', 'space')</td>\n",
       "      <td>2</td>\n",
       "      <td>boundary_within cluster</td>\n",
       "    </tr>\n",
       "    <tr>\n",
       "      <th>40597</th>\n",
       "      <td>240029.0</td>\n",
       "      <td>1397</td>\n",
       "      <td>6.0</td>\n",
       "      <td>1.0</td>\n",
       "      <td>structured</td>\n",
       "      <td>non boundary</td>\n",
       "      <td>within cluster</td>\n",
       "      <td>1.178918</td>\n",
       "      <td>('h',)</td>\n",
       "      <td>1</td>\n",
       "      <td>non boundary_within cluster</td>\n",
       "    </tr>\n",
       "    <tr>\n",
       "      <th>40598</th>\n",
       "      <td>240029.0</td>\n",
       "      <td>1398</td>\n",
       "      <td>6.0</td>\n",
       "      <td>1.0</td>\n",
       "      <td>structured</td>\n",
       "      <td>boundary</td>\n",
       "      <td>within cluster</td>\n",
       "      <td>0.719465</td>\n",
       "      <td>('j', 'space')</td>\n",
       "      <td>2</td>\n",
       "      <td>boundary_within cluster</td>\n",
       "    </tr>\n",
       "    <tr>\n",
       "      <th>40599</th>\n",
       "      <td>240029.0</td>\n",
       "      <td>1399</td>\n",
       "      <td>6.0</td>\n",
       "      <td>1.0</td>\n",
       "      <td>structured</td>\n",
       "      <td>non boundary</td>\n",
       "      <td>within cluster</td>\n",
       "      <td>0.628359</td>\n",
       "      <td>('h',)</td>\n",
       "      <td>1</td>\n",
       "      <td>non boundary_within cluster</td>\n",
       "    </tr>\n",
       "  </tbody>\n",
       "</table>\n",
       "<p>34803 rows × 11 columns</p>\n",
       "</div>"
      ],
      "text/plain": [
       "       participant  trial  blocks.thisRepN  accuracy   condition  \\\n",
       "0         240000.0      0              0.0       1.0      random   \n",
       "1         240000.0      1              0.0       1.0      random   \n",
       "2         240000.0      2              0.0       1.0      random   \n",
       "3         240000.0      3              0.0       1.0      random   \n",
       "4         240000.0      4              0.0       1.0      random   \n",
       "...            ...    ...              ...       ...         ...   \n",
       "40595     240029.0   1395              6.0       1.0  structured   \n",
       "40596     240029.0   1396              6.0       1.0  structured   \n",
       "40597     240029.0   1397              6.0       1.0  structured   \n",
       "40598     240029.0   1398              6.0       1.0  structured   \n",
       "40599     240029.0   1399              6.0       1.0  structured   \n",
       "\n",
       "          node type transition_type        rt            stim  num_keypress  \\\n",
       "0      non boundary  within cluster  1.471844          ('j',)             1   \n",
       "1      non boundary  within cluster  0.459337          ('j',)             1   \n",
       "2          boundary  within cluster  0.423757          ('l',)             1   \n",
       "3      non boundary  within cluster  0.669688  ('j', 'space')             2   \n",
       "4      non boundary  within cluster  1.228632      ('j', 'l')             2   \n",
       "...             ...             ...       ...             ...           ...   \n",
       "40595  non boundary  within cluster  0.568107          ('j',)             1   \n",
       "40596      boundary  within cluster  1.052871  ('j', 'space')             2   \n",
       "40597  non boundary  within cluster  1.178918          ('h',)             1   \n",
       "40598      boundary  within cluster  0.719465  ('j', 'space')             2   \n",
       "40599  non boundary  within cluster  0.628359          ('h',)             1   \n",
       "\n",
       "              node_transition_type  \n",
       "0      non boundary_within cluster  \n",
       "1      non boundary_within cluster  \n",
       "2          boundary_within cluster  \n",
       "3      non boundary_within cluster  \n",
       "4      non boundary_within cluster  \n",
       "...                            ...  \n",
       "40595  non boundary_within cluster  \n",
       "40596      boundary_within cluster  \n",
       "40597  non boundary_within cluster  \n",
       "40598      boundary_within cluster  \n",
       "40599  non boundary_within cluster  \n",
       "\n",
       "[34803 rows x 11 columns]"
      ]
     },
     "execution_count": 9,
     "metadata": {},
     "output_type": "execute_result"
    }
   ],
   "source": [
    "df_clean_rt_outlier"
   ]
  },
  {
   "cell_type": "code",
   "execution_count": 14,
   "metadata": {},
   "outputs": [],
   "source": [
    "df_clean_rt_outlier['node_transition_type']=df_clean_rt_outlier['node type']+'_'+df_clean_rt_outlier['transition_type']\n",
    "df_clean_participant['node_transition_type']=df_clean_participant['node type']+'_'+df_clean_participant['transition_type']\n"
   ]
  },
  {
   "cell_type": "code",
   "execution_count": 15,
   "metadata": {},
   "outputs": [
    {
     "data": {
      "text/html": [
       "<div>\n",
       "<style scoped>\n",
       "    .dataframe tbody tr th:only-of-type {\n",
       "        vertical-align: middle;\n",
       "    }\n",
       "\n",
       "    .dataframe tbody tr th {\n",
       "        vertical-align: top;\n",
       "    }\n",
       "\n",
       "    .dataframe thead th {\n",
       "        text-align: right;\n",
       "    }\n",
       "</style>\n",
       "<table border=\"1\" class=\"dataframe\">\n",
       "  <thead>\n",
       "    <tr style=\"text-align: right;\">\n",
       "      <th></th>\n",
       "      <th>participant</th>\n",
       "      <th>blocks.thisRepN</th>\n",
       "      <th>condition</th>\n",
       "      <th>node type</th>\n",
       "      <th>transition_type</th>\n",
       "      <th>trial</th>\n",
       "      <th>accuracy</th>\n",
       "      <th>rt</th>\n",
       "      <th>num_keypress</th>\n",
       "      <th>node_transition_type</th>\n",
       "    </tr>\n",
       "  </thead>\n",
       "  <tbody>\n",
       "    <tr>\n",
       "      <th>0</th>\n",
       "      <td>240000.0</td>\n",
       "      <td>0.0</td>\n",
       "      <td>random</td>\n",
       "      <td>boundary</td>\n",
       "      <td>cross cluster</td>\n",
       "      <td>81.0</td>\n",
       "      <td>1.0</td>\n",
       "      <td>0.537916</td>\n",
       "      <td>2.0</td>\n",
       "      <td>boundary_cross cluster</td>\n",
       "    </tr>\n",
       "    <tr>\n",
       "      <th>1</th>\n",
       "      <td>240000.0</td>\n",
       "      <td>0.0</td>\n",
       "      <td>random</td>\n",
       "      <td>boundary</td>\n",
       "      <td>within cluster</td>\n",
       "      <td>98.0</td>\n",
       "      <td>1.0</td>\n",
       "      <td>0.549622</td>\n",
       "      <td>2.0</td>\n",
       "      <td>boundary_within cluster</td>\n",
       "    </tr>\n",
       "    <tr>\n",
       "      <th>2</th>\n",
       "      <td>240000.0</td>\n",
       "      <td>0.0</td>\n",
       "      <td>random</td>\n",
       "      <td>non boundary</td>\n",
       "      <td>within cluster</td>\n",
       "      <td>96.0</td>\n",
       "      <td>1.0</td>\n",
       "      <td>0.566307</td>\n",
       "      <td>2.0</td>\n",
       "      <td>non boundary_within cluster</td>\n",
       "    </tr>\n",
       "    <tr>\n",
       "      <th>3</th>\n",
       "      <td>240000.0</td>\n",
       "      <td>1.0</td>\n",
       "      <td>random</td>\n",
       "      <td>boundary</td>\n",
       "      <td>cross cluster</td>\n",
       "      <td>281.0</td>\n",
       "      <td>1.0</td>\n",
       "      <td>0.532537</td>\n",
       "      <td>2.0</td>\n",
       "      <td>boundary_cross cluster</td>\n",
       "    </tr>\n",
       "    <tr>\n",
       "      <th>4</th>\n",
       "      <td>240000.0</td>\n",
       "      <td>1.0</td>\n",
       "      <td>random</td>\n",
       "      <td>boundary</td>\n",
       "      <td>within cluster</td>\n",
       "      <td>303.0</td>\n",
       "      <td>1.0</td>\n",
       "      <td>0.536355</td>\n",
       "      <td>2.0</td>\n",
       "      <td>boundary_within cluster</td>\n",
       "    </tr>\n",
       "    <tr>\n",
       "      <th>...</th>\n",
       "      <td>...</td>\n",
       "      <td>...</td>\n",
       "      <td>...</td>\n",
       "      <td>...</td>\n",
       "      <td>...</td>\n",
       "      <td>...</td>\n",
       "      <td>...</td>\n",
       "      <td>...</td>\n",
       "      <td>...</td>\n",
       "      <td>...</td>\n",
       "    </tr>\n",
       "    <tr>\n",
       "      <th>604</th>\n",
       "      <td>240029.0</td>\n",
       "      <td>5.0</td>\n",
       "      <td>structured</td>\n",
       "      <td>boundary</td>\n",
       "      <td>within cluster</td>\n",
       "      <td>1109.0</td>\n",
       "      <td>1.0</td>\n",
       "      <td>0.659062</td>\n",
       "      <td>2.0</td>\n",
       "      <td>boundary_within cluster</td>\n",
       "    </tr>\n",
       "    <tr>\n",
       "      <th>605</th>\n",
       "      <td>240029.0</td>\n",
       "      <td>5.0</td>\n",
       "      <td>structured</td>\n",
       "      <td>non boundary</td>\n",
       "      <td>within cluster</td>\n",
       "      <td>1096.5</td>\n",
       "      <td>1.0</td>\n",
       "      <td>0.729545</td>\n",
       "      <td>2.0</td>\n",
       "      <td>non boundary_within cluster</td>\n",
       "    </tr>\n",
       "    <tr>\n",
       "      <th>606</th>\n",
       "      <td>240029.0</td>\n",
       "      <td>6.0</td>\n",
       "      <td>structured</td>\n",
       "      <td>boundary</td>\n",
       "      <td>cross cluster</td>\n",
       "      <td>1283.0</td>\n",
       "      <td>1.0</td>\n",
       "      <td>0.703492</td>\n",
       "      <td>2.0</td>\n",
       "      <td>boundary_cross cluster</td>\n",
       "    </tr>\n",
       "    <tr>\n",
       "      <th>607</th>\n",
       "      <td>240029.0</td>\n",
       "      <td>6.0</td>\n",
       "      <td>structured</td>\n",
       "      <td>boundary</td>\n",
       "      <td>within cluster</td>\n",
       "      <td>1298.0</td>\n",
       "      <td>1.0</td>\n",
       "      <td>0.699792</td>\n",
       "      <td>2.0</td>\n",
       "      <td>boundary_within cluster</td>\n",
       "    </tr>\n",
       "    <tr>\n",
       "      <th>608</th>\n",
       "      <td>240029.0</td>\n",
       "      <td>6.0</td>\n",
       "      <td>structured</td>\n",
       "      <td>non boundary</td>\n",
       "      <td>within cluster</td>\n",
       "      <td>1312.0</td>\n",
       "      <td>1.0</td>\n",
       "      <td>0.710238</td>\n",
       "      <td>1.0</td>\n",
       "      <td>non boundary_within cluster</td>\n",
       "    </tr>\n",
       "  </tbody>\n",
       "</table>\n",
       "<p>609 rows × 10 columns</p>\n",
       "</div>"
      ],
      "text/plain": [
       "     participant  blocks.thisRepN   condition     node type transition_type  \\\n",
       "0       240000.0              0.0      random      boundary   cross cluster   \n",
       "1       240000.0              0.0      random      boundary  within cluster   \n",
       "2       240000.0              0.0      random  non boundary  within cluster   \n",
       "3       240000.0              1.0      random      boundary   cross cluster   \n",
       "4       240000.0              1.0      random      boundary  within cluster   \n",
       "..           ...              ...         ...           ...             ...   \n",
       "604     240029.0              5.0  structured      boundary  within cluster   \n",
       "605     240029.0              5.0  structured  non boundary  within cluster   \n",
       "606     240029.0              6.0  structured      boundary   cross cluster   \n",
       "607     240029.0              6.0  structured      boundary  within cluster   \n",
       "608     240029.0              6.0  structured  non boundary  within cluster   \n",
       "\n",
       "      trial  accuracy        rt  num_keypress         node_transition_type  \n",
       "0      81.0       1.0  0.537916           2.0       boundary_cross cluster  \n",
       "1      98.0       1.0  0.549622           2.0      boundary_within cluster  \n",
       "2      96.0       1.0  0.566307           2.0  non boundary_within cluster  \n",
       "3     281.0       1.0  0.532537           2.0       boundary_cross cluster  \n",
       "4     303.0       1.0  0.536355           2.0      boundary_within cluster  \n",
       "..      ...       ...       ...           ...                          ...  \n",
       "604  1109.0       1.0  0.659062           2.0      boundary_within cluster  \n",
       "605  1096.5       1.0  0.729545           2.0  non boundary_within cluster  \n",
       "606  1283.0       1.0  0.703492           2.0       boundary_cross cluster  \n",
       "607  1298.0       1.0  0.699792           2.0      boundary_within cluster  \n",
       "608  1312.0       1.0  0.710238           1.0  non boundary_within cluster  \n",
       "\n",
       "[609 rows x 10 columns]"
      ]
     },
     "execution_count": 15,
     "metadata": {},
     "output_type": "execute_result"
    }
   ],
   "source": [
    "df_clean_participant"
   ]
  },
  {
   "cell_type": "markdown",
   "metadata": {},
   "source": [
    "# Plot RTs\n",
    "The dataframe that is created above (df_clearn_rt_outlier) removes outliers where people may have responded too quickly or too slowly. This is the dataframe we want to work with. Let's start by plotting first. \n",
    "\n",
    "Plot a graph using python's seaborn package such that: \n",
    "1. The Y axis is the average response time\n",
    "2. The X axis is the block number\n",
    "3. The graph has three 'column' panels corresponding to the three conditions.\n",
    "\n",
    "\n",
    "(Hint: Use the seaborn catplot function)"
   ]
  },
  {
   "cell_type": "code",
   "execution_count": 18,
   "metadata": {
    "tags": []
   },
   "outputs": [
    {
     "data": {
      "text/plain": [
       "<seaborn.axisgrid.FacetGrid at 0x1a211786d10>"
      ]
     },
     "execution_count": 18,
     "metadata": {},
     "output_type": "execute_result"
    },
    {
     "data": {
      "image/png": "[encoded data removed]",
      "text/plain": [
       "<Figure size 1991.38x500 with 3 Axes>"
      ]
     },
     "metadata": {},
     "output_type": "display_data"
    }
   ],
   "source": [
    "sns.catplot(data=df_clean_rt_outlier, y='rt', x='blocks.thisRepN', hue='node_transition_type', row=None, col='condition', \n",
    "            kind='point', margin_titles=True, estimator='mean', seed=0,\n",
    "           palette=sns.color_palette(\"colorblind\"))\n"
   ]
  },
  {
   "cell_type": "markdown",
   "metadata": {},
   "source": [
    "# Plot Accuracies\n",
    "That dataframe also has a column called 'accuracy'. Use that colum to plot a graph using python's seaborn package such that: \n",
    "1. The Y axis is the average accuracy\n",
    "2. The X axis is the block number\n",
    "3. The graph has three 'column' panels corresponding to the three conditions. "
   ]
  },
  {
   "cell_type": "code",
   "execution_count": 10,
   "metadata": {
    "tags": []
   },
   "outputs": [
    {
     "data": {
      "text/plain": [
       "<seaborn.axisgrid.FacetGrid at 0x7fec71b0bd00>"
      ]
     },
     "execution_count": 10,
     "metadata": {},
     "output_type": "execute_result"
    },
    {
     "data": {
      "image/png": "[encoded data removed]",
      "text/plain": [
       "<Figure size 500x500 with 1 Axes>"
      ]
     },
     "metadata": {},
     "output_type": "display_data"
    }
   ],
   "source": [
    "sns.catplot(data=df_clean_rt_outlier, y='accuracy', x='blocks.thisRepN', hue=None, row=None, col=None, kind='point', estimator='mean', seed=0, order=None, hue_order=None, row_order=None, col_order=None, col_wrap=None)\n",
    "\n",
    "\n",
    "\n"
   ]
  },
  {
   "cell_type": "code",
   "execution_count": 4,
   "metadata": {
    "tags": []
   },
   "outputs": [
    {
     "ename": "ValueError",
     "evalue": "'data_files' is not one of the example datasets.",
     "output_type": "error",
     "traceback": [
      "\u001b[0;31m---------------------------------------------------------------------------\u001b[0m",
      "\u001b[0;31mValueError\u001b[0m                                Traceback (most recent call last)",
      "Input \u001b[0;32mIn [4]\u001b[0m, in \u001b[0;36m<cell line: 3>\u001b[0;34m()\u001b[0m\n\u001b[1;32m      1\u001b[0m \u001b[38;5;28;01mimport\u001b[39;00m \u001b[38;5;21;01mseaborn\u001b[39;00m \u001b[38;5;28;01mas\u001b[39;00m \u001b[38;5;21;01msns\u001b[39;00m \n\u001b[0;32m----> 3\u001b[0m music \u001b[38;5;241m=\u001b[39m \u001b[43msns\u001b[49m\u001b[38;5;241;43m.\u001b[39;49m\u001b[43mload_dataset\u001b[49m\u001b[43m(\u001b[49m\u001b[38;5;124;43m\"\u001b[39;49m\u001b[38;5;124;43mdata_files\u001b[39;49m\u001b[38;5;124;43m\"\u001b[39;49m\u001b[43m)\u001b[49m \n\u001b[1;32m      4\u001b[0m g \u001b[38;5;241m=\u001b[39m sns\u001b[38;5;241m.\u001b[39mcatplot(x\u001b[38;5;241m=\u001b[39m\u001b[38;5;124m\"\u001b[39m\u001b[38;5;124mblocks.thisRepN\u001b[39m\u001b[38;5;124m\"\u001b[39m, y\u001b[38;5;241m=\u001b[39mmean(\u001b[38;5;124m\"\u001b[39m\u001b[38;5;124maccuracy\u001b[39m\u001b[38;5;124m\"\u001b[39m), \n\u001b[1;32m      5\u001b[0m                 hue\u001b[38;5;241m=\u001b[39m\u001b[38;5;124m\"\u001b[39m\u001b[38;5;124mcondition\u001b[39m\u001b[38;5;124m\"\u001b[39m, \n\u001b[1;32m      6\u001b[0m                 data\u001b[38;5;241m=\u001b[39mmusic)\n",
      "File \u001b[0;32m~/opt/anaconda3/lib/python3.9/site-packages/seaborn/utils.py:595\u001b[0m, in \u001b[0;36mload_dataset\u001b[0;34m(name, cache, data_home, **kws)\u001b[0m\n\u001b[1;32m    593\u001b[0m \u001b[38;5;28;01mif\u001b[39;00m \u001b[38;5;129;01mnot\u001b[39;00m os\u001b[38;5;241m.\u001b[39mpath\u001b[38;5;241m.\u001b[39mexists(cache_path):\n\u001b[1;32m    594\u001b[0m     \u001b[38;5;28;01mif\u001b[39;00m name \u001b[38;5;129;01mnot\u001b[39;00m \u001b[38;5;129;01min\u001b[39;00m get_dataset_names():\n\u001b[0;32m--> 595\u001b[0m         \u001b[38;5;28;01mraise\u001b[39;00m \u001b[38;5;167;01mValueError\u001b[39;00m(\u001b[38;5;124mf\u001b[39m\u001b[38;5;124m\"\u001b[39m\u001b[38;5;124m'\u001b[39m\u001b[38;5;132;01m{\u001b[39;00mname\u001b[38;5;132;01m}\u001b[39;00m\u001b[38;5;124m'\u001b[39m\u001b[38;5;124m is not one of the example datasets.\u001b[39m\u001b[38;5;124m\"\u001b[39m)\n\u001b[1;32m    596\u001b[0m     urlretrieve(url, cache_path)\n\u001b[1;32m    597\u001b[0m full_path \u001b[38;5;241m=\u001b[39m cache_path\n",
      "\u001b[0;31mValueError\u001b[0m: 'data_files' is not one of the example datasets."
     ]
    }
   ],
   "source": [
    "import seaborn as sns \n",
    "  \n",
    "music = sns.load_dataset(\"data_files\") \n",
    "g = sns.catplot(x=\"blocks.thisRepN\", y=mean(\"accuracy\"), \n",
    "                hue=\"condition\", \n",
    "                data=music)"
   ]
  },
  {
   "cell_type": "code",
   "execution_count": null,
   "metadata": {
    "tags": []
   },
   "outputs": [],
   "source": []
  },
  {
   "cell_type": "code",
   "execution_count": null,
   "metadata": {},
   "outputs": [],
   "source": []
  },
  {
   "cell_type": "code",
   "execution_count": null,
   "metadata": {
    "tags": []
   },
   "outputs": [],
   "source": []
  },
  {
   "cell_type": "code",
   "execution_count": null,
   "metadata": {
    "tags": []
   },
   "outputs": [],
   "source": []
  },
  {
   "cell_type": "code",
   "execution_count": null,
   "metadata": {
    "tags": []
   },
   "outputs": [],
   "source": []
  },
  {
   "cell_type": "code",
   "execution_count": null,
   "metadata": {
    "tags": []
   },
   "outputs": [],
   "source": []
  },
  {
   "cell_type": "code",
   "execution_count": null,
   "metadata": {
    "tags": []
   },
   "outputs": [],
   "source": []
  },
  {
   "cell_type": "code",
   "execution_count": null,
   "metadata": {
    "tags": []
   },
   "outputs": [],
   "source": []
  },
  {
   "cell_type": "code",
   "execution_count": null,
   "metadata": {
    "tags": []
   },
   "outputs": [],
   "source": []
  },
  {
   "cell_type": "code",
   "execution_count": null,
   "metadata": {
    "tags": []
   },
   "outputs": [],
   "source": []
  },
  {
   "cell_type": "code",
   "execution_count": null,
   "metadata": {
    "tags": []
   },
   "outputs": [],
   "source": []
  },
  {
   "cell_type": "code",
   "execution_count": null,
   "metadata": {
    "tags": []
   },
   "outputs": [],
   "source": []
  },
  {
   "cell_type": "code",
   "execution_count": null,
   "metadata": {
    "tags": []
   },
   "outputs": [],
   "source": []
  },
  {
   "cell_type": "code",
   "execution_count": null,
   "metadata": {
    "tags": []
   },
   "outputs": [],
   "source": []
  },
  {
   "cell_type": "code",
   "execution_count": null,
   "metadata": {
    "tags": []
   },
   "outputs": [],
   "source": []
  },
  {
   "cell_type": "code",
   "execution_count": null,
   "metadata": {
    "tags": []
   },
   "outputs": [],
   "source": []
  },
  {
   "cell_type": "code",
   "execution_count": null,
   "metadata": {
    "tags": []
   },
   "outputs": [],
   "source": []
  },
  {
   "cell_type": "code",
   "execution_count": null,
   "metadata": {
    "tags": []
   },
   "outputs": [],
   "source": []
  },
  {
   "cell_type": "code",
   "execution_count": null,
   "metadata": {},
   "outputs": [],
   "source": []
  },
  {
   "cell_type": "code",
   "execution_count": null,
   "metadata": {},
   "outputs": [],
   "source": []
  },
  {
   "cell_type": "code",
   "execution_count": null,
   "metadata": {},
   "outputs": [],
   "source": []
  },
  {
   "cell_type": "code",
   "execution_count": null,
   "metadata": {
    "tags": []
   },
   "outputs": [],
   "source": []
  },
  {
   "cell_type": "code",
   "execution_count": null,
   "metadata": {
    "tags": []
   },
   "outputs": [],
   "source": []
  },
  {
   "cell_type": "code",
   "execution_count": null,
   "metadata": {
    "tags": []
   },
   "outputs": [],
   "source": []
  },
  {
   "cell_type": "code",
   "execution_count": null,
   "metadata": {
    "tags": []
   },
   "outputs": [],
   "source": []
  },
  {
   "cell_type": "code",
   "execution_count": null,
   "metadata": {
    "tags": []
   },
   "outputs": [],
   "source": []
  },
  {
   "cell_type": "code",
   "execution_count": null,
   "metadata": {
    "tags": []
   },
   "outputs": [],
   "source": []
  },
  {
   "cell_type": "code",
   "execution_count": null,
   "metadata": {
    "tags": []
   },
   "outputs": [],
   "source": []
  },
  {
   "cell_type": "code",
   "execution_count": null,
   "metadata": {
    "tags": []
   },
   "outputs": [],
   "source": []
  },
  {
   "cell_type": "code",
   "execution_count": null,
   "metadata": {},
   "outputs": [],
   "source": []
  },
  {
   "cell_type": "code",
   "execution_count": null,
   "metadata": {
    "tags": []
   },
   "outputs": [],
   "source": []
  },
  {
   "cell_type": "code",
   "execution_count": null,
   "metadata": {
    "tags": []
   },
   "outputs": [],
   "source": []
  },
  {
   "cell_type": "code",
   "execution_count": null,
   "metadata": {
    "tags": []
   },
   "outputs": [],
   "source": []
  },
  {
   "cell_type": "code",
   "execution_count": null,
   "metadata": {
    "tags": []
   },
   "outputs": [],
   "source": []
  },
  {
   "cell_type": "code",
   "execution_count": null,
   "metadata": {},
   "outputs": [],
   "source": []
  }
 ],
 "metadata": {
  "kernelspec": {
   "display_name": "Python 3 (ipykernel)",
   "language": "python",
   "name": "python3"
  },
  "language_info": {
   "codemirror_mode": {
    "name": "ipython",
    "version": 3
   },
   "file_extension": ".py",
   "mimetype": "text/x-python",
   "name": "python",
   "nbconvert_exporter": "python",
   "pygments_lexer": "ipython3",
   "version": "3.11.8"
  }
 },
 "nbformat": 4,
 "nbformat_minor": 4
}
