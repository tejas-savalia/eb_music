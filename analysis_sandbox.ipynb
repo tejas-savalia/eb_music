{
 "cells": [
  {
   "cell_type": "code",
   "execution_count": 1,
   "metadata": {
    "tags": []
   },
   "outputs": [],
   "source": [
    "# Import the required packages\n",
    "\n",
    "import warnings\n",
    "warnings.filterwarnings('ignore')\n",
    "import numpy as np\n",
    "import pandas as pd\n",
    "import seaborn as sns\n",
    "import matplotlib.pyplot as plt\n",
    "import ast, os\n",
    "#import bambi as bmb\n",
    "import pymc as pm\n",
    "import arviz as az\n",
    "import scipy.stats as stat\n",
    "from collections import Counter\n",
    "import itertools\n"
   ]
  },
  {
   "cell_type": "code",
   "execution_count": 2,
   "metadata": {
    "tags": []
   },
   "outputs": [],
   "source": [
    "#Set up plotting themes\n",
    "sns.set_context('poster')\n",
    "sns.set_style('darkgrid')"
   ]
  },
  {
   "cell_type": "markdown",
   "metadata": {},
   "source": [
    "# Function to clean the data files\n",
    "\n",
    "#### For each data file this function does the following:\n",
    "1. Drops irrelevant columns\n",
    "2. Computes accuracies (accurate if all correct keys pressed on the first try)\n",
    "3. Label Node types: Boundary vs non boundary\n",
    "4. Label transition types: Cross cluster or within cluster\n",
    "4. Label other relevant conditions like walk length, number of keypresses, etc. "
   ]
  },
  {
   "cell_type": "code",
   "execution_count": null,
   "metadata": {},
   "outputs": [],
   "source": []
  },
  {
   "cell_type": "code",
   "execution_count": null,
   "metadata": {},
   "outputs": [],
   "source": []
  },
  {
   "cell_type": "code",
   "execution_count": 3,
   "metadata": {
    "tags": []
   },
   "outputs": [],
   "source": [
    "def clean_data(filename):\n",
    "    # print(filename)\n",
    "    # Handle errors. If there is an error, go to 'except' and return nothing.\n",
    "    try:\n",
    "        data = pd.read_csv('data/' + filename)\n",
    "\n",
    "        # Drop instruction rows by dropping rows with missing data in column: 'blocks.thisRepN'\n",
    "        data = data.dropna(subset=['blocks.thisRepN']).reset_index(drop=True)\n",
    "\n",
    "        #If data file is incomplete, raise an error. \n",
    "        if sum(data['node idx'].notna()) < 1400:\n",
    "            raise TypeError('Incomplete Data')\n",
    "\n",
    "\n",
    "        #Rt is average rt of all keys pressed\n",
    "        data['rt'] = [np.mean(ast.literal_eval(data['key_resp.rt'][i])) if data['accuracy'][i] else np.NaN for i in range(len(data))]\n",
    "        \n",
    "        #Transition type is cross cluster if goes from boundary to boundary\n",
    "        data['transition_type'] = ['cross cluster' if (data['node type'] == 'boundary')[i] & (data['node type'].shift() == 'boundary')[i] else 'within cluster' for i in range(len(data))]\n",
    "\n",
    "        #Label conditions based on participant number as was designed in the experiment\n",
    "        if data['participant'][0]%3 == 0:\n",
    "            data['condition'] = 'random'\n",
    "        elif data['participant'][0]%3 == 1:\n",
    "            data['condition'] = 'music random'\n",
    "        else:\n",
    "            data['condition'] = 'structured'\n",
    "\n",
    "        data['trial'] = np.arange(len(data))\n",
    "        \n",
    "        \n",
    "    except:\n",
    "        return None\n",
    "\n",
    "    #Count the number of keys to be pressed for each stimuli\n",
    "    data['num_keypress'] = [len(ast.literal_eval(data['stim'][i])) for i in range(len(data))]\n",
    "    \n",
    "    #Return the dataframe with relevant columns\n",
    "    return data[['participant', 'trial', 'blocks.thisRepN', 'accuracy', 'condition', 'node type', 'transition_type', 'rt', 'stim', 'num_keypress']]\n"
   ]
  },
  {
   "cell_type": "markdown",
   "metadata": {},
   "source": [
    "# Read the data files"
   ]
  },
  {
   "cell_type": "code",
   "execution_count": 19,
   "metadata": {
    "tags": []
   },
   "outputs": [],
   "source": [
    "#reads in all the NAMES of the data files from the 'data' folder. \n",
    "data_files = []\n",
    "for f in os.listdir('data/'):\n",
    "    if (f.startswith('240') & f.endswith('csv')):\n",
    "        data_files.append(f)"
   ]
  },
  {
   "cell_type": "markdown",
   "metadata": {},
   "source": [
    "# Sanity Check 1 \n",
    "Print out the data_files variable and test if correct files are being loaded"
   ]
  },
  {
   "cell_type": "code",
   "execution_count": 20,
   "metadata": {},
   "outputs": [
    {
     "data": {
      "text/plain": [
       "['240018_eb_music_2024-03-27_13h18.21.516.csv',\n",
       " '240025_eb_music_2024-03-28_13h19.35.843.csv',\n",
       " '240019_eb_music_2024-03-27_15h41.50.111.csv',\n",
       " '240015_eb_music_2024-03-27_11h23.41.504.csv',\n",
       " '240021_eb_music_2024-03-28_12h37.06.193.csv',\n",
       " '240023_eb_music_2024-03-28_13h42.52.188.csv',\n",
       " '240028_eb_music_2024-04-01_14h14.11.027.csv',\n",
       " '240010_eb_music_2010-09-21_02h04.06.427.csv',\n",
       " '240017_eb_music_2024-03-27_12h53.21.987.csv',\n",
       " '240000_eb_music_2024-03-13_13h32.51.559.csv',\n",
       " '240001_eb_music_2024-03-13_13h28.21.687.csv',\n",
       " '240027_eb_music_2024-04-01_12h34.31.005.csv',\n",
       " '240005_eb_music_2010-09-20_02h29.21.924.csv',\n",
       " '240006_eb_music_2010-09-21_01h01.38.600.csv',\n",
       " '240024_eb_music_2024-03-28_13h20.30.963.csv',\n",
       " '240009_eb_music_2024-03-15_12h47.17.042.csv',\n",
       " '240008_eb_music_2024-03-15_12h02.14.101.csv',\n",
       " '240013_eb_music_2024-03-25_12h49.02.447.csv',\n",
       " '240026_eb_music_2024-04-01_12h14.44.476.csv',\n",
       " '240004_eb_music_2024-03-14_12h59.27.819.csv',\n",
       " '240003_eb_music_2024-03-14_12h29.04.605.csv',\n",
       " '240007_eb_music_2024-03-15_11h40.37.731.csv',\n",
       " '240020_eb_music_2024-03-28_12h16.20.572.csv',\n",
       " '240012_eb_music_2024-03-25_12h29.30.924.csv']"
      ]
     },
     "execution_count": 20,
     "metadata": {},
     "output_type": "execute_result"
    }
   ],
   "source": [
    "data_files"
   ]
  },
  {
   "cell_type": "markdown",
   "metadata": {},
   "source": [
    "# Cleaning the data files into a single large dataframe\n",
    "\n",
    "1. Label Trials, conditions, etc. \n",
    "2. Combine relevant columns of extracted data files \n",
    "3. Specify outliers and remove them\n"
   ]
  },
  {
   "cell_type": "code",
   "execution_count": 21,
   "metadata": {
    "tags": []
   },
   "outputs": [],
   "source": [
    "df_clean = pd.concat([clean_data(f) for f in data_files]).reset_index(drop = True)\n",
    "# df_clean['reset'] = 'False'\n",
    "# df_clean.loc[df_clean['trial'].values%(df_clean['walk_length'].values+1) == 0, 'reset'] = 'True'\n",
    "\n",
    "\n",
    "\n",
    "df_clean_rt_outlier = df_clean[np.abs(stat.zscore(df_clean['rt'], nan_policy='omit')) < 3]\n",
    "# df_clean_rt_outlier['node_transition_type'] = df_clean_rt_outlier['node_type'] + ' ' + df_clean_rt_outlier['transition_type']\n",
    "\n",
    "# df_clean_participant = df_clean_rt_outlier.groupby(['participant', 'blocks.thisRepN', 'condition', 'node type', 'transition_type']).median(numeric_only = True).reset_index()\n",
    "\n",
    "# # df_clean_rt_outlier['walk_length'] = df_clean_rt_outlier.walk_length.astype('str')\n",
    "# # df_clean_rt_outlier['num_keypress'] = df_clean_rt_outlier['num_keypress'].astype(str)\n",
    "\n",
    "# df_clean_participant"
   ]
  },
  {
   "cell_type": "markdown",
   "metadata": {},
   "source": [
    "# Sanity Check 2\n",
    "Print out the dataframe df_clearn_rt_outlier to see if it looks as expected. \n",
    "\n",
    "Take a note of the relevant columns"
   ]
  },
  {
   "cell_type": "code",
   "execution_count": 22,
   "metadata": {},
   "outputs": [
    {
     "data": {
      "text/html": [
       "<div>\n",
       "<style scoped>\n",
       "    .dataframe tbody tr th:only-of-type {\n",
       "        vertical-align: middle;\n",
       "    }\n",
       "\n",
       "    .dataframe tbody tr th {\n",
       "        vertical-align: top;\n",
       "    }\n",
       "\n",
       "    .dataframe thead th {\n",
       "        text-align: right;\n",
       "    }\n",
       "</style>\n",
       "<table border=\"1\" class=\"dataframe\">\n",
       "  <thead>\n",
       "    <tr style=\"text-align: right;\">\n",
       "      <th></th>\n",
       "      <th>participant</th>\n",
       "      <th>trial</th>\n",
       "      <th>blocks.thisRepN</th>\n",
       "      <th>accuracy</th>\n",
       "      <th>condition</th>\n",
       "      <th>node type</th>\n",
       "      <th>transition_type</th>\n",
       "      <th>rt</th>\n",
       "      <th>stim</th>\n",
       "      <th>num_keypress</th>\n",
       "    </tr>\n",
       "  </thead>\n",
       "  <tbody>\n",
       "    <tr>\n",
       "      <th>0</th>\n",
       "      <td>240018.0</td>\n",
       "      <td>0</td>\n",
       "      <td>0.0</td>\n",
       "      <td>1.0</td>\n",
       "      <td>random</td>\n",
       "      <td>non boundary</td>\n",
       "      <td>within cluster</td>\n",
       "      <td>0.643316</td>\n",
       "      <td>('space',)</td>\n",
       "      <td>1</td>\n",
       "    </tr>\n",
       "    <tr>\n",
       "      <th>1</th>\n",
       "      <td>240018.0</td>\n",
       "      <td>1</td>\n",
       "      <td>0.0</td>\n",
       "      <td>1.0</td>\n",
       "      <td>random</td>\n",
       "      <td>boundary</td>\n",
       "      <td>within cluster</td>\n",
       "      <td>1.177603</td>\n",
       "      <td>('j',)</td>\n",
       "      <td>1</td>\n",
       "    </tr>\n",
       "    <tr>\n",
       "      <th>2</th>\n",
       "      <td>240018.0</td>\n",
       "      <td>2</td>\n",
       "      <td>0.0</td>\n",
       "      <td>1.0</td>\n",
       "      <td>random</td>\n",
       "      <td>boundary</td>\n",
       "      <td>cross cluster</td>\n",
       "      <td>0.932779</td>\n",
       "      <td>('h', 'l')</td>\n",
       "      <td>2</td>\n",
       "    </tr>\n",
       "    <tr>\n",
       "      <th>3</th>\n",
       "      <td>240018.0</td>\n",
       "      <td>3</td>\n",
       "      <td>0.0</td>\n",
       "      <td>1.0</td>\n",
       "      <td>random</td>\n",
       "      <td>non boundary</td>\n",
       "      <td>within cluster</td>\n",
       "      <td>0.547360</td>\n",
       "      <td>('l',)</td>\n",
       "      <td>1</td>\n",
       "    </tr>\n",
       "    <tr>\n",
       "      <th>4</th>\n",
       "      <td>240018.0</td>\n",
       "      <td>4</td>\n",
       "      <td>0.0</td>\n",
       "      <td>1.0</td>\n",
       "      <td>random</td>\n",
       "      <td>non boundary</td>\n",
       "      <td>within cluster</td>\n",
       "      <td>0.405620</td>\n",
       "      <td>('h',)</td>\n",
       "      <td>1</td>\n",
       "    </tr>\n",
       "    <tr>\n",
       "      <th>...</th>\n",
       "      <td>...</td>\n",
       "      <td>...</td>\n",
       "      <td>...</td>\n",
       "      <td>...</td>\n",
       "      <td>...</td>\n",
       "      <td>...</td>\n",
       "      <td>...</td>\n",
       "      <td>...</td>\n",
       "      <td>...</td>\n",
       "      <td>...</td>\n",
       "    </tr>\n",
       "    <tr>\n",
       "      <th>30794</th>\n",
       "      <td>240012.0</td>\n",
       "      <td>1394</td>\n",
       "      <td>6.0</td>\n",
       "      <td>1.0</td>\n",
       "      <td>random</td>\n",
       "      <td>non boundary</td>\n",
       "      <td>within cluster</td>\n",
       "      <td>1.078448</td>\n",
       "      <td>('l',)</td>\n",
       "      <td>1</td>\n",
       "    </tr>\n",
       "    <tr>\n",
       "      <th>30795</th>\n",
       "      <td>240012.0</td>\n",
       "      <td>1395</td>\n",
       "      <td>6.0</td>\n",
       "      <td>1.0</td>\n",
       "      <td>random</td>\n",
       "      <td>boundary</td>\n",
       "      <td>within cluster</td>\n",
       "      <td>1.215838</td>\n",
       "      <td>('j', 'space')</td>\n",
       "      <td>2</td>\n",
       "    </tr>\n",
       "    <tr>\n",
       "      <th>30797</th>\n",
       "      <td>240012.0</td>\n",
       "      <td>1397</td>\n",
       "      <td>6.0</td>\n",
       "      <td>1.0</td>\n",
       "      <td>random</td>\n",
       "      <td>boundary</td>\n",
       "      <td>within cluster</td>\n",
       "      <td>0.659638</td>\n",
       "      <td>('k',)</td>\n",
       "      <td>1</td>\n",
       "    </tr>\n",
       "    <tr>\n",
       "      <th>30798</th>\n",
       "      <td>240012.0</td>\n",
       "      <td>1398</td>\n",
       "      <td>6.0</td>\n",
       "      <td>1.0</td>\n",
       "      <td>random</td>\n",
       "      <td>boundary</td>\n",
       "      <td>cross cluster</td>\n",
       "      <td>1.164311</td>\n",
       "      <td>('j', 'space')</td>\n",
       "      <td>2</td>\n",
       "    </tr>\n",
       "    <tr>\n",
       "      <th>30799</th>\n",
       "      <td>240012.0</td>\n",
       "      <td>1399</td>\n",
       "      <td>6.0</td>\n",
       "      <td>1.0</td>\n",
       "      <td>random</td>\n",
       "      <td>boundary</td>\n",
       "      <td>cross cluster</td>\n",
       "      <td>0.986620</td>\n",
       "      <td>('l', 'space')</td>\n",
       "      <td>2</td>\n",
       "    </tr>\n",
       "  </tbody>\n",
       "</table>\n",
       "<p>27742 rows × 10 columns</p>\n",
       "</div>"
      ],
      "text/plain": [
       "       participant  trial  blocks.thisRepN  accuracy condition     node type  \\\n",
       "0         240018.0      0              0.0       1.0    random  non boundary   \n",
       "1         240018.0      1              0.0       1.0    random      boundary   \n",
       "2         240018.0      2              0.0       1.0    random      boundary   \n",
       "3         240018.0      3              0.0       1.0    random  non boundary   \n",
       "4         240018.0      4              0.0       1.0    random  non boundary   \n",
       "...            ...    ...              ...       ...       ...           ...   \n",
       "30794     240012.0   1394              6.0       1.0    random  non boundary   \n",
       "30795     240012.0   1395              6.0       1.0    random      boundary   \n",
       "30797     240012.0   1397              6.0       1.0    random      boundary   \n",
       "30798     240012.0   1398              6.0       1.0    random      boundary   \n",
       "30799     240012.0   1399              6.0       1.0    random      boundary   \n",
       "\n",
       "      transition_type        rt            stim  num_keypress  \n",
       "0      within cluster  0.643316      ('space',)             1  \n",
       "1      within cluster  1.177603          ('j',)             1  \n",
       "2       cross cluster  0.932779      ('h', 'l')             2  \n",
       "3      within cluster  0.547360          ('l',)             1  \n",
       "4      within cluster  0.405620          ('h',)             1  \n",
       "...               ...       ...             ...           ...  \n",
       "30794  within cluster  1.078448          ('l',)             1  \n",
       "30795  within cluster  1.215838  ('j', 'space')             2  \n",
       "30797  within cluster  0.659638          ('k',)             1  \n",
       "30798   cross cluster  1.164311  ('j', 'space')             2  \n",
       "30799   cross cluster  0.986620  ('l', 'space')             2  \n",
       "\n",
       "[27742 rows x 10 columns]"
      ]
     },
     "execution_count": 22,
     "metadata": {},
     "output_type": "execute_result"
    }
   ],
   "source": [
    "df_clean_rt_outlier"
   ]
  },
  {
   "cell_type": "code",
   "execution_count": 27,
   "metadata": {},
   "outputs": [],
   "source": [
    "df_clean_rt_outlier['node_transition_type']=df_clean_rt_outlier['node type']+'_'+df_clean_rt_outlier['transition_type']"
   ]
  },
  {
   "cell_type": "code",
   "execution_count": 28,
   "metadata": {},
   "outputs": [
    {
     "data": {
      "text/html": [
       "<div>\n",
       "<style scoped>\n",
       "    .dataframe tbody tr th:only-of-type {\n",
       "        vertical-align: middle;\n",
       "    }\n",
       "\n",
       "    .dataframe tbody tr th {\n",
       "        vertical-align: top;\n",
       "    }\n",
       "\n",
       "    .dataframe thead th {\n",
       "        text-align: right;\n",
       "    }\n",
       "</style>\n",
       "<table border=\"1\" class=\"dataframe\">\n",
       "  <thead>\n",
       "    <tr style=\"text-align: right;\">\n",
       "      <th></th>\n",
       "      <th>participant</th>\n",
       "      <th>trial</th>\n",
       "      <th>blocks.thisRepN</th>\n",
       "      <th>accuracy</th>\n",
       "      <th>condition</th>\n",
       "      <th>node type</th>\n",
       "      <th>transition_type</th>\n",
       "      <th>rt</th>\n",
       "      <th>stim</th>\n",
       "      <th>num_keypress</th>\n",
       "      <th>node_transition_type</th>\n",
       "    </tr>\n",
       "  </thead>\n",
       "  <tbody>\n",
       "    <tr>\n",
       "      <th>0</th>\n",
       "      <td>240018.0</td>\n",
       "      <td>0</td>\n",
       "      <td>0.0</td>\n",
       "      <td>1.0</td>\n",
       "      <td>random</td>\n",
       "      <td>non boundary</td>\n",
       "      <td>within cluster</td>\n",
       "      <td>0.643316</td>\n",
       "      <td>('space',)</td>\n",
       "      <td>1</td>\n",
       "      <td>non boundary_within cluster</td>\n",
       "    </tr>\n",
       "    <tr>\n",
       "      <th>1</th>\n",
       "      <td>240018.0</td>\n",
       "      <td>1</td>\n",
       "      <td>0.0</td>\n",
       "      <td>1.0</td>\n",
       "      <td>random</td>\n",
       "      <td>boundary</td>\n",
       "      <td>within cluster</td>\n",
       "      <td>1.177603</td>\n",
       "      <td>('j',)</td>\n",
       "      <td>1</td>\n",
       "      <td>boundary_within cluster</td>\n",
       "    </tr>\n",
       "    <tr>\n",
       "      <th>2</th>\n",
       "      <td>240018.0</td>\n",
       "      <td>2</td>\n",
       "      <td>0.0</td>\n",
       "      <td>1.0</td>\n",
       "      <td>random</td>\n",
       "      <td>boundary</td>\n",
       "      <td>cross cluster</td>\n",
       "      <td>0.932779</td>\n",
       "      <td>('h', 'l')</td>\n",
       "      <td>2</td>\n",
       "      <td>boundary_cross cluster</td>\n",
       "    </tr>\n",
       "    <tr>\n",
       "      <th>3</th>\n",
       "      <td>240018.0</td>\n",
       "      <td>3</td>\n",
       "      <td>0.0</td>\n",
       "      <td>1.0</td>\n",
       "      <td>random</td>\n",
       "      <td>non boundary</td>\n",
       "      <td>within cluster</td>\n",
       "      <td>0.547360</td>\n",
       "      <td>('l',)</td>\n",
       "      <td>1</td>\n",
       "      <td>non boundary_within cluster</td>\n",
       "    </tr>\n",
       "    <tr>\n",
       "      <th>4</th>\n",
       "      <td>240018.0</td>\n",
       "      <td>4</td>\n",
       "      <td>0.0</td>\n",
       "      <td>1.0</td>\n",
       "      <td>random</td>\n",
       "      <td>non boundary</td>\n",
       "      <td>within cluster</td>\n",
       "      <td>0.405620</td>\n",
       "      <td>('h',)</td>\n",
       "      <td>1</td>\n",
       "      <td>non boundary_within cluster</td>\n",
       "    </tr>\n",
       "    <tr>\n",
       "      <th>...</th>\n",
       "      <td>...</td>\n",
       "      <td>...</td>\n",
       "      <td>...</td>\n",
       "      <td>...</td>\n",
       "      <td>...</td>\n",
       "      <td>...</td>\n",
       "      <td>...</td>\n",
       "      <td>...</td>\n",
       "      <td>...</td>\n",
       "      <td>...</td>\n",
       "      <td>...</td>\n",
       "    </tr>\n",
       "    <tr>\n",
       "      <th>30794</th>\n",
       "      <td>240012.0</td>\n",
       "      <td>1394</td>\n",
       "      <td>6.0</td>\n",
       "      <td>1.0</td>\n",
       "      <td>random</td>\n",
       "      <td>non boundary</td>\n",
       "      <td>within cluster</td>\n",
       "      <td>1.078448</td>\n",
       "      <td>('l',)</td>\n",
       "      <td>1</td>\n",
       "      <td>non boundary_within cluster</td>\n",
       "    </tr>\n",
       "    <tr>\n",
       "      <th>30795</th>\n",
       "      <td>240012.0</td>\n",
       "      <td>1395</td>\n",
       "      <td>6.0</td>\n",
       "      <td>1.0</td>\n",
       "      <td>random</td>\n",
       "      <td>boundary</td>\n",
       "      <td>within cluster</td>\n",
       "      <td>1.215838</td>\n",
       "      <td>('j', 'space')</td>\n",
       "      <td>2</td>\n",
       "      <td>boundary_within cluster</td>\n",
       "    </tr>\n",
       "    <tr>\n",
       "      <th>30797</th>\n",
       "      <td>240012.0</td>\n",
       "      <td>1397</td>\n",
       "      <td>6.0</td>\n",
       "      <td>1.0</td>\n",
       "      <td>random</td>\n",
       "      <td>boundary</td>\n",
       "      <td>within cluster</td>\n",
       "      <td>0.659638</td>\n",
       "      <td>('k',)</td>\n",
       "      <td>1</td>\n",
       "      <td>boundary_within cluster</td>\n",
       "    </tr>\n",
       "    <tr>\n",
       "      <th>30798</th>\n",
       "      <td>240012.0</td>\n",
       "      <td>1398</td>\n",
       "      <td>6.0</td>\n",
       "      <td>1.0</td>\n",
       "      <td>random</td>\n",
       "      <td>boundary</td>\n",
       "      <td>cross cluster</td>\n",
       "      <td>1.164311</td>\n",
       "      <td>('j', 'space')</td>\n",
       "      <td>2</td>\n",
       "      <td>boundary_cross cluster</td>\n",
       "    </tr>\n",
       "    <tr>\n",
       "      <th>30799</th>\n",
       "      <td>240012.0</td>\n",
       "      <td>1399</td>\n",
       "      <td>6.0</td>\n",
       "      <td>1.0</td>\n",
       "      <td>random</td>\n",
       "      <td>boundary</td>\n",
       "      <td>cross cluster</td>\n",
       "      <td>0.986620</td>\n",
       "      <td>('l', 'space')</td>\n",
       "      <td>2</td>\n",
       "      <td>boundary_cross cluster</td>\n",
       "    </tr>\n",
       "  </tbody>\n",
       "</table>\n",
       "<p>27742 rows × 11 columns</p>\n",
       "</div>"
      ],
      "text/plain": [
       "       participant  trial  blocks.thisRepN  accuracy condition     node type  \\\n",
       "0         240018.0      0              0.0       1.0    random  non boundary   \n",
       "1         240018.0      1              0.0       1.0    random      boundary   \n",
       "2         240018.0      2              0.0       1.0    random      boundary   \n",
       "3         240018.0      3              0.0       1.0    random  non boundary   \n",
       "4         240018.0      4              0.0       1.0    random  non boundary   \n",
       "...            ...    ...              ...       ...       ...           ...   \n",
       "30794     240012.0   1394              6.0       1.0    random  non boundary   \n",
       "30795     240012.0   1395              6.0       1.0    random      boundary   \n",
       "30797     240012.0   1397              6.0       1.0    random      boundary   \n",
       "30798     240012.0   1398              6.0       1.0    random      boundary   \n",
       "30799     240012.0   1399              6.0       1.0    random      boundary   \n",
       "\n",
       "      transition_type        rt            stim  num_keypress  \\\n",
       "0      within cluster  0.643316      ('space',)             1   \n",
       "1      within cluster  1.177603          ('j',)             1   \n",
       "2       cross cluster  0.932779      ('h', 'l')             2   \n",
       "3      within cluster  0.547360          ('l',)             1   \n",
       "4      within cluster  0.405620          ('h',)             1   \n",
       "...               ...       ...             ...           ...   \n",
       "30794  within cluster  1.078448          ('l',)             1   \n",
       "30795  within cluster  1.215838  ('j', 'space')             2   \n",
       "30797  within cluster  0.659638          ('k',)             1   \n",
       "30798   cross cluster  1.164311  ('j', 'space')             2   \n",
       "30799   cross cluster  0.986620  ('l', 'space')             2   \n",
       "\n",
       "              node_transition_type  \n",
       "0      non boundary_within cluster  \n",
       "1          boundary_within cluster  \n",
       "2           boundary_cross cluster  \n",
       "3      non boundary_within cluster  \n",
       "4      non boundary_within cluster  \n",
       "...                            ...  \n",
       "30794  non boundary_within cluster  \n",
       "30795      boundary_within cluster  \n",
       "30797      boundary_within cluster  \n",
       "30798       boundary_cross cluster  \n",
       "30799       boundary_cross cluster  \n",
       "\n",
       "[27742 rows x 11 columns]"
      ]
     },
     "execution_count": 28,
     "metadata": {},
     "output_type": "execute_result"
    }
   ],
   "source": [
    "df_clean_rt_outlier"
   ]
  },
  {
   "cell_type": "markdown",
   "metadata": {},
   "source": [
    "# Plot RTs\n",
    "The dataframe that is created above (df_clearn_rt_outlier) removes outliers where people may have responded too quickly or too slowly. This is the dataframe we want to work with. Let's start by plotting first. \n",
    "\n",
    "Plot a graph using python's seaborn package such that: \n",
    "1. The Y axis is the average response time\n",
    "2. The X axis is the block number\n",
    "3. The graph has three 'column' panels corresponding to the three conditions.\n",
    "\n",
    "\n",
    "(Hint: Use the seaborn catplot function)"
   ]
  },
  {
   "cell_type": "code",
   "execution_count": 35,
   "metadata": {
    "tags": []
   },
   "outputs": [
    {
     "data": {
      "text/plain": [
       "<seaborn.axisgrid.FacetGrid at 0x7fec3179a8c0>"
      ]
     },
     "execution_count": 35,
     "metadata": {},
     "output_type": "execute_result"
    },
    {
     "data": {
      "image/png": "[encoded data removed]",
      "text/plain": [
       "<Figure size 1991.38x500 with 3 Axes>"
      ]
     },
     "metadata": {},
     "output_type": "display_data"
    }
   ],
   "source": [
    "sns.catplot(data=df_clean_rt_outlier, y='rt', x='blocks.thisRepN', hue='node_transition_type', row=None, col='condition', \n",
    "            kind='point', margin_titles=True, estimator='mean', seed=0,\n",
    "           palette=sns.color_palette(\"colorblind\"))\n"
   ]
  },
  {
   "cell_type": "markdown",
   "metadata": {},
   "source": [
    "# Plot Accuracies\n",
    "That dataframe also has a column called 'accuracy'. Use that colum to plot a graph using python's seaborn package such that: \n",
    "1. The Y axis is the average accuracy\n",
    "2. The X axis is the block number\n",
    "3. The graph has three 'column' panels corresponding to the three conditions. "
   ]
  },
  {
   "cell_type": "code",
   "execution_count": 10,
   "metadata": {
    "tags": []
   },
   "outputs": [
    {
     "data": {
      "text/plain": [
       "<seaborn.axisgrid.FacetGrid at 0x7fec71b0bd00>"
      ]
     },
     "execution_count": 10,
     "metadata": {},
     "output_type": "execute_result"
    },
    {
     "data": {
      "image/png": "[encoded data removed]",
      "text/plain": [
       "<Figure size 500x500 with 1 Axes>"
      ]
     },
     "metadata": {},
     "output_type": "display_data"
    }
   ],
   "source": [
    "sns.catplot(data=df_clean_rt_outlier, y='accuracy', x='blocks.thisRepN', hue=None, row=None, col=None, kind='point', estimator='mean', seed=0, order=None, hue_order=None, row_order=None, col_order=None, col_wrap=None)\n",
    "\n",
    "\n",
    "\n"
   ]
  },
  {
   "cell_type": "code",
   "execution_count": 4,
   "metadata": {
    "tags": []
   },
   "outputs": [
    {
     "ename": "ValueError",
     "evalue": "'data_files' is not one of the example datasets.",
     "output_type": "error",
     "traceback": [
      "\u001b[0;31m---------------------------------------------------------------------------\u001b[0m",
      "\u001b[0;31mValueError\u001b[0m                                Traceback (most recent call last)",
      "Input \u001b[0;32mIn [4]\u001b[0m, in \u001b[0;36m<cell line: 3>\u001b[0;34m()\u001b[0m\n\u001b[1;32m      1\u001b[0m \u001b[38;5;28;01mimport\u001b[39;00m \u001b[38;5;21;01mseaborn\u001b[39;00m \u001b[38;5;28;01mas\u001b[39;00m \u001b[38;5;21;01msns\u001b[39;00m \n\u001b[0;32m----> 3\u001b[0m music \u001b[38;5;241m=\u001b[39m \u001b[43msns\u001b[49m\u001b[38;5;241;43m.\u001b[39;49m\u001b[43mload_dataset\u001b[49m\u001b[43m(\u001b[49m\u001b[38;5;124;43m\"\u001b[39;49m\u001b[38;5;124;43mdata_files\u001b[39;49m\u001b[38;5;124;43m\"\u001b[39;49m\u001b[43m)\u001b[49m \n\u001b[1;32m      4\u001b[0m g \u001b[38;5;241m=\u001b[39m sns\u001b[38;5;241m.\u001b[39mcatplot(x\u001b[38;5;241m=\u001b[39m\u001b[38;5;124m\"\u001b[39m\u001b[38;5;124mblocks.thisRepN\u001b[39m\u001b[38;5;124m\"\u001b[39m, y\u001b[38;5;241m=\u001b[39mmean(\u001b[38;5;124m\"\u001b[39m\u001b[38;5;124maccuracy\u001b[39m\u001b[38;5;124m\"\u001b[39m), \n\u001b[1;32m      5\u001b[0m                 hue\u001b[38;5;241m=\u001b[39m\u001b[38;5;124m\"\u001b[39m\u001b[38;5;124mcondition\u001b[39m\u001b[38;5;124m\"\u001b[39m, \n\u001b[1;32m      6\u001b[0m                 data\u001b[38;5;241m=\u001b[39mmusic)\n",
      "File \u001b[0;32m~/opt/anaconda3/lib/python3.9/site-packages/seaborn/utils.py:595\u001b[0m, in \u001b[0;36mload_dataset\u001b[0;34m(name, cache, data_home, **kws)\u001b[0m\n\u001b[1;32m    593\u001b[0m \u001b[38;5;28;01mif\u001b[39;00m \u001b[38;5;129;01mnot\u001b[39;00m os\u001b[38;5;241m.\u001b[39mpath\u001b[38;5;241m.\u001b[39mexists(cache_path):\n\u001b[1;32m    594\u001b[0m     \u001b[38;5;28;01mif\u001b[39;00m name \u001b[38;5;129;01mnot\u001b[39;00m \u001b[38;5;129;01min\u001b[39;00m get_dataset_names():\n\u001b[0;32m--> 595\u001b[0m         \u001b[38;5;28;01mraise\u001b[39;00m \u001b[38;5;167;01mValueError\u001b[39;00m(\u001b[38;5;124mf\u001b[39m\u001b[38;5;124m\"\u001b[39m\u001b[38;5;124m'\u001b[39m\u001b[38;5;132;01m{\u001b[39;00mname\u001b[38;5;132;01m}\u001b[39;00m\u001b[38;5;124m'\u001b[39m\u001b[38;5;124m is not one of the example datasets.\u001b[39m\u001b[38;5;124m\"\u001b[39m)\n\u001b[1;32m    596\u001b[0m     urlretrieve(url, cache_path)\n\u001b[1;32m    597\u001b[0m full_path \u001b[38;5;241m=\u001b[39m cache_path\n",
      "\u001b[0;31mValueError\u001b[0m: 'data_files' is not one of the example datasets."
     ]
    }
   ],
   "source": [
    "import seaborn as sns \n",
    "  \n",
    "music = sns.load_dataset(\"data_files\") \n",
    "g = sns.catplot(x=\"blocks.thisRepN\", y=mean(\"accuracy\"), \n",
    "                hue=\"condition\", \n",
    "                data=music)"
   ]
  },
  {
   "cell_type": "code",
   "execution_count": null,
   "metadata": {
    "tags": []
   },
   "outputs": [],
   "source": []
  },
  {
   "cell_type": "code",
   "execution_count": null,
   "metadata": {},
   "outputs": [],
   "source": []
  },
  {
   "cell_type": "code",
   "execution_count": null,
   "metadata": {
    "tags": []
   },
   "outputs": [],
   "source": []
  },
  {
   "cell_type": "code",
   "execution_count": null,
   "metadata": {
    "tags": []
   },
   "outputs": [],
   "source": []
  },
  {
   "cell_type": "code",
   "execution_count": null,
   "metadata": {
    "tags": []
   },
   "outputs": [],
   "source": []
  },
  {
   "cell_type": "code",
   "execution_count": null,
   "metadata": {
    "tags": []
   },
   "outputs": [],
   "source": []
  },
  {
   "cell_type": "code",
   "execution_count": null,
   "metadata": {
    "tags": []
   },
   "outputs": [],
   "source": []
  },
  {
   "cell_type": "code",
   "execution_count": null,
   "metadata": {
    "tags": []
   },
   "outputs": [],
   "source": []
  },
  {
   "cell_type": "code",
   "execution_count": null,
   "metadata": {
    "tags": []
   },
   "outputs": [],
   "source": []
  },
  {
   "cell_type": "code",
   "execution_count": null,
   "metadata": {
    "tags": []
   },
   "outputs": [],
   "source": []
  },
  {
   "cell_type": "code",
   "execution_count": null,
   "metadata": {
    "tags": []
   },
   "outputs": [],
   "source": []
  },
  {
   "cell_type": "code",
   "execution_count": null,
   "metadata": {
    "tags": []
   },
   "outputs": [],
   "source": []
  },
  {
   "cell_type": "code",
   "execution_count": null,
   "metadata": {
    "tags": []
   },
   "outputs": [],
   "source": []
  },
  {
   "cell_type": "code",
   "execution_count": null,
   "metadata": {
    "tags": []
   },
   "outputs": [],
   "source": []
  },
  {
   "cell_type": "code",
   "execution_count": null,
   "metadata": {
    "tags": []
   },
   "outputs": [],
   "source": []
  },
  {
   "cell_type": "code",
   "execution_count": null,
   "metadata": {
    "tags": []
   },
   "outputs": [],
   "source": []
  },
  {
   "cell_type": "code",
   "execution_count": null,
   "metadata": {
    "tags": []
   },
   "outputs": [],
   "source": []
  },
  {
   "cell_type": "code",
   "execution_count": null,
   "metadata": {
    "tags": []
   },
   "outputs": [],
   "source": []
  },
  {
   "cell_type": "code",
   "execution_count": null,
   "metadata": {},
   "outputs": [],
   "source": []
  },
  {
   "cell_type": "code",
   "execution_count": null,
   "metadata": {},
   "outputs": [],
   "source": []
  },
  {
   "cell_type": "code",
   "execution_count": null,
   "metadata": {},
   "outputs": [],
   "source": []
  },
  {
   "cell_type": "code",
   "execution_count": null,
   "metadata": {
    "tags": []
   },
   "outputs": [],
   "source": []
  },
  {
   "cell_type": "code",
   "execution_count": null,
   "metadata": {
    "tags": []
   },
   "outputs": [],
   "source": []
  },
  {
   "cell_type": "code",
   "execution_count": null,
   "metadata": {
    "tags": []
   },
   "outputs": [],
   "source": []
  },
  {
   "cell_type": "code",
   "execution_count": null,
   "metadata": {
    "tags": []
   },
   "outputs": [],
   "source": []
  },
  {
   "cell_type": "code",
   "execution_count": null,
   "metadata": {
    "tags": []
   },
   "outputs": [],
   "source": []
  },
  {
   "cell_type": "code",
   "execution_count": null,
   "metadata": {
    "tags": []
   },
   "outputs": [],
   "source": []
  },
  {
   "cell_type": "code",
   "execution_count": null,
   "metadata": {
    "tags": []
   },
   "outputs": [],
   "source": []
  },
  {
   "cell_type": "code",
   "execution_count": null,
   "metadata": {
    "tags": []
   },
   "outputs": [],
   "source": []
  },
  {
   "cell_type": "code",
   "execution_count": null,
   "metadata": {},
   "outputs": [],
   "source": []
  },
  {
   "cell_type": "code",
   "execution_count": null,
   "metadata": {
    "tags": []
   },
   "outputs": [],
   "source": []
  },
  {
   "cell_type": "code",
   "execution_count": null,
   "metadata": {
    "tags": []
   },
   "outputs": [],
   "source": []
  },
  {
   "cell_type": "code",
   "execution_count": null,
   "metadata": {
    "tags": []
   },
   "outputs": [],
   "source": []
  },
  {
   "cell_type": "code",
   "execution_count": null,
   "metadata": {
    "tags": []
   },
   "outputs": [],
   "source": []
  },
  {
   "cell_type": "code",
   "execution_count": null,
   "metadata": {},
   "outputs": [],
   "source": []
  }
 ],
 "metadata": {
  "kernelspec": {
   "display_name": "Python 3 (ipykernel)",
   "language": "python",
   "name": "python3"
  },
  "language_info": {
   "codemirror_mode": {
    "name": "ipython",
    "version": 3
   },
   "file_extension": ".py",
   "mimetype": "text/x-python",
   "name": "python",
   "nbconvert_exporter": "python",
   "pygments_lexer": "ipython3",
   "version": "3.10.14"
  }
 },
 "nbformat": 4,
 "nbformat_minor": 4
}
